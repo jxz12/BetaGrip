{
 "cells": [
  {
   "cell_type": "code",
   "execution_count": 51,
   "metadata": {},
   "outputs": [],
   "source": [
    "import numpy as np\n",
    "from collections import defaultdict\n",
    "import matplotlib.pyplot as plt"
   ]
  },
  {
   "cell_type": "code",
   "execution_count": 193,
   "metadata": {},
   "outputs": [],
   "source": [
    "def construct_matrix(file):\n",
    "    freq_vec = defaultdict(int)\n",
    "    for char in file.read():\n",
    "        freq_vec[char.lower()] += 1  # this should include newlines\n",
    "\n",
    "#     for line in lines:\n",
    "#         for char in line:\n",
    "#             freq_vec[char.lower()] += 1  # this should include newlines\n",
    "\n",
    "\n",
    "    kept = {}\n",
    "    for char, freq in freq_vec.items():\n",
    "        if freq >= 88:\n",
    "            kept[char] = freq\n",
    "\n",
    "    freq_vec = kept\n",
    "    idx2char = []\n",
    "    char2idx = {}\n",
    "    for char, freq in sorted(freq_vec.items(), key=lambda x: -x[1]):\n",
    "        char2idx[char] = len(idx2char)\n",
    "        idx2char.append(char)\n",
    "\n",
    "    n = len(idx2char)\n",
    "    freq_mat = np.zeros((n, n))\n",
    "    prev = '\\n'\n",
    "    f.seek(0)\n",
    "    for char in f.read():\n",
    "        if prev in char2idx and char in char2idx:\n",
    "            row = char2idx[prev]\n",
    "            col = char2idx[char]\n",
    "            freq_mat[row, col] += 1  # likewise as above\n",
    "        prev = char\n",
    "        \n",
    "    for idx, char in enumerate(idx2char):\n",
    "        if char == '\\n':\n",
    "            idx2char[idx] = r'\\n'\n",
    "        if char == ' ':\n",
    "            idx2char[idx] = r'\\s'\n",
    "    return freq_mat, idx2char\n",
    "\n",
    "\n",
    "def plot_matrix(A, ticks):\n",
    "    fig,ax = plt.subplots(figsize=(8,8))\n",
    "    ax.imshow(A)\n",
    "\n",
    "    ax.set_xticks(range(len(A)))\n",
    "    ax.set_yticks(range(len(A)))\n",
    "    ax.set_xticklabels(ticks)\n",
    "    ax.set_yticklabels(ticks)\n",
    "    plt.show()"
   ]
  },
  {
   "cell_type": "code",
   "execution_count": 194,
   "metadata": {
    "scrolled": false
   },
   "outputs": [
    {
     "name": "stdout",
     "output_type": "stream",
     "text": [
      "{'t': 12467, 'h': 8942, 'e': 16743, ' ': 28438, 'p': 2574, 'r': 8232, 'o': 11062, 'j': 203, 'c': 3663, 'g': 3394, 'u': 3853, 'n': 9012, 'b': 2221, 'k': 1170, 'f': 2835, 'a': 10362, 'i': 9463, 's': 8732, 'm': 3217, 'l': 5054, ',': 2906, 'y': 2632, 'd': 6220, '\\n': 4238, 'w': 3370, 'v': 1152, '.': 1640, '-': 476, ':': 98, 'z': 88, \"'\": 456, '!': 411, ';': 370, '?': 159, 'x': 159, 'q': 108, '\"': 1388}\n"
     ]
    },
    {
     "data": {
      "image/png": "[encoded data removed]",
      "text/plain": [
       "<Figure size 576x576 with 1 Axes>"
      ]
     },
     "metadata": {
      "needs_background": "light"
     },
     "output_type": "display_data"
    }
   ],
   "source": [
    "with open('christmas carol.txt') as f:\n",
    "    A, ticks = construct_matrix(f)\n",
    "\n",
    "plot_matrix(A, ticks)"
   ]
  },
  {
   "cell_type": "code",
   "execution_count": 197,
   "metadata": {},
   "outputs": [
    {
     "name": "stdout",
     "output_type": "stream",
     "text": [
      "485.0\n"
     ]
    }
   ],
   "source": [
    "print(A[1,1])"
   ]
  },
  {
   "cell_type": "code",
   "execution_count": 81,
   "metadata": {},
   "outputs": [],
   "source": [
    "from scipy.spatial.distance import pdist, squareform\n",
    "import numpy.linalg as lalg\n",
    "from scipy.cluster.hierarchy import linkage, dendrogram"
   ]
  },
  {
   "cell_type": "code",
   "execution_count": 133,
   "metadata": {},
   "outputs": [],
   "source": [
    "def embed_snapshot_markov(A, steps):\n",
    "    '''embedding of pons & lapaty, including extra weighting using degrees'''\n",
    "    # get markov matrix P\n",
    "    n = len(A)\n",
    "    D = np.identity(n) * np.sum(A, axis=1)\n",
    "    P = lalg.inv(D) @ A\n",
    "    \n",
    "    # steps\n",
    "    P = lalg.matrix_power(P, steps)\n",
    "#     if degrees:\n",
    "#         P = lalg.inv(sqrtm(D)) @ P\n",
    "    return P"
   ]
  },
  {
   "cell_type": "code",
   "execution_count": 185,
   "metadata": {},
   "outputs": [],
   "source": [
    "def cluster_walktrap(embedding, method='ward', opt_ord=False):\n",
    "    dist = pdist(embedding, metric='euclidean')\n",
    "#     dist = squareform(D)\n",
    "    return linkage(dist, method=method, optimal_ordering=opt_ord)"
   ]
  },
  {
   "cell_type": "code",
   "execution_count": 186,
   "metadata": {},
   "outputs": [],
   "source": [
    "def draw_dendrogram(Z, ticklabels, figsize=(16,5)):\n",
    "    plt.figure(figsize=figsize)\n",
    "    plt.rcParams[\"font.weight\"] = \"bold\"\n",
    "    dend = dendrogram(Z, leaf_rotation=0, leaf_font_size=15)\n",
    "\n",
    "    ticks, labels = plt.xticks()\n",
    "    if ticklabels is not None:\n",
    "        labels = [ticklabels[int(l.get_text())] for l in labels]\n",
    "        plt.xticks(ticks, labels)\n"
   ]
  },
  {
   "cell_type": "code",
   "execution_count": 187,
   "metadata": {},
   "outputs": [
    {
     "data": {
      "image/png": "[encoded data removed]",
      "text/plain": [
       "<Figure size 576x576 with 1 Axes>"
      ]
     },
     "metadata": {
      "needs_background": "light"
     },
     "output_type": "display_data"
    }
   ],
   "source": [
    "P = embed_snapshot_markov(A, 1)\n",
    "plot_matrix(P, ticks)"
   ]
  },
  {
   "cell_type": "code",
   "execution_count": null,
   "metadata": {},
   "outputs": [],
   "source": [
    "P = 1 - (P+P.T)/2\n",
    "np.fill_diagonal(P, 0)\n",
    "plot_matrix(P, ticks)"
   ]
  },
  {
   "cell_type": "code",
   "execution_count": 188,
   "metadata": {},
   "outputs": [],
   "source": [
    "Z = cluster_walktrap(P, 'ward', True)"
   ]
  },
  {
   "cell_type": "code",
   "execution_count": 189,
   "metadata": {},
   "outputs": [
    {
     "data": {
      "image/png": "[encoded data removed]",
      "text/plain": [
       "<Figure size 1152x360 with 1 Axes>"
      ]
     },
     "metadata": {
      "needs_background": "light"
     },
     "output_type": "display_data"
    }
   ],
   "source": [
    "draw_dendrogram(Z, ticks)"
   ]
  },
  {
   "cell_type": "markdown",
   "metadata": {},
   "source": [
    "# optimisation"
   ]
  },
  {
   "cell_type": "code",
   "execution_count": null,
   "metadata": {},
   "outputs": [],
   "source": [
    "# branch and bound\n",
    "def optimise(A):\n",
    "    \n",
    "    order = []\n",
    "    \n",
    "    def dfs(pos,)"
   ]
  },
  {
   "cell_type": "code",
   "execution_count": 190,
   "metadata": {},
   "outputs": [],
   "source": [
    "# simulated annealing"
   ]
  },
  {
   "cell_type": "code",
   "execution_count": null,
   "metadata": {},
   "outputs": [],
   "source": [
    "# genetic"
   ]
  }
 ],
 "metadata": {
  "kernelspec": {
   "display_name": "Python 3",
   "language": "python",
   "name": "python3"
  },
  "language_info": {
   "codemirror_mode": {
    "name": "ipython",
    "version": 3
   },
   "file_extension": ".py",
   "mimetype": "text/x-python",
   "name": "python",
   "nbconvert_exporter": "python",
   "pygments_lexer": "ipython3",
   "version": "3.7.3"
  }
 },
 "nbformat": 4,
 "nbformat_minor": 4
}
